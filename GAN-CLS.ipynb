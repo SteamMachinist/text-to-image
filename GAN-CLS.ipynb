{
 "cells": [
  {
   "cell_type": "code",
   "execution_count": 1,
   "outputs": [
    {
     "name": "stdout",
     "output_type": "stream",
     "text": [
      "Requirement already satisfied: transformers in c:\\users\\user\\pycharmprojects\\pythonproject\\venv\\lib\\site-packages (4.29.2)\n",
      "Requirement already satisfied: pyyaml>=5.1 in c:\\users\\user\\pycharmprojects\\pythonproject\\venv\\lib\\site-packages (from transformers) (6.0)\n",
      "Requirement already satisfied: requests in c:\\users\\user\\pycharmprojects\\pythonproject\\venv\\lib\\site-packages (from transformers) (2.28.1)\n",
      "Requirement already satisfied: numpy>=1.17 in c:\\users\\user\\pycharmprojects\\pythonproject\\venv\\lib\\site-packages (from transformers) (1.24.3)\n",
      "Requirement already satisfied: packaging>=20.0 in c:\\users\\user\\pycharmprojects\\pythonproject\\venv\\lib\\site-packages (from transformers) (23.1)\n",
      "Requirement already satisfied: tokenizers!=0.11.3,<0.14,>=0.11.1 in c:\\users\\user\\pycharmprojects\\pythonproject\\venv\\lib\\site-packages (from transformers) (0.13.3)\n",
      "Requirement already satisfied: filelock in c:\\users\\user\\pycharmprojects\\pythonproject\\venv\\lib\\site-packages (from transformers) (3.9.0)\n",
      "Requirement already satisfied: tqdm>=4.27 in c:\\users\\user\\pycharmprojects\\pythonproject\\venv\\lib\\site-packages (from transformers) (4.65.0)\n",
      "Requirement already satisfied: regex!=2019.12.17 in c:\\users\\user\\pycharmprojects\\pythonproject\\venv\\lib\\site-packages (from transformers) (2023.5.5)\n",
      "Requirement already satisfied: huggingface-hub<1.0,>=0.14.1 in c:\\users\\user\\pycharmprojects\\pythonproject\\venv\\lib\\site-packages (from transformers) (0.14.1)\n",
      "Requirement already satisfied: fsspec in c:\\users\\user\\pycharmprojects\\pythonproject\\venv\\lib\\site-packages (from huggingface-hub<1.0,>=0.14.1->transformers) (2023.5.0)\n",
      "Requirement already satisfied: typing-extensions>=3.7.4.3 in c:\\users\\user\\pycharmprojects\\pythonproject\\venv\\lib\\site-packages (from huggingface-hub<1.0,>=0.14.1->transformers) (4.4.0)\n",
      "Requirement already satisfied: colorama in c:\\users\\user\\pycharmprojects\\pythonproject\\venv\\lib\\site-packages (from tqdm>=4.27->transformers) (0.4.6)\n",
      "Requirement already satisfied: certifi>=2017.4.17 in c:\\users\\user\\pycharmprojects\\pythonproject\\venv\\lib\\site-packages (from requests->transformers) (2022.12.7)\n",
      "Requirement already satisfied: idna<4,>=2.5 in c:\\users\\user\\pycharmprojects\\pythonproject\\venv\\lib\\site-packages (from requests->transformers) (3.4)\n",
      "Requirement already satisfied: charset-normalizer<3,>=2 in c:\\users\\user\\pycharmprojects\\pythonproject\\venv\\lib\\site-packages (from requests->transformers) (2.1.1)\n",
      "Requirement already satisfied: urllib3<1.27,>=1.21.1 in c:\\users\\user\\pycharmprojects\\pythonproject\\venv\\lib\\site-packages (from requests->transformers) (1.26.13)\n"
     ]
    },
    {
     "name": "stderr",
     "output_type": "stream",
     "text": [
      "\n",
      "[notice] A new release of pip available: 22.3.1 -> 23.1.2\n",
      "[notice] To update, run: python.exe -m pip install --upgrade pip\n"
     ]
    }
   ],
   "source": [
    "!pip install transformers"
   ],
   "metadata": {
    "collapsed": false,
    "ExecuteTime": {
     "start_time": "2023-06-16T18:07:16.350752Z",
     "end_time": "2023-06-16T18:07:18.718533Z"
    }
   }
  },
  {
   "cell_type": "code",
   "execution_count": 2,
   "outputs": [
    {
     "name": "stdout",
     "output_type": "stream",
     "text": [
      "Requirement already satisfied: sentence-transformers in c:\\users\\user\\pycharmprojects\\pythonproject\\venv\\lib\\site-packages (2.2.2)\n",
      "Requirement already satisfied: huggingface-hub>=0.4.0 in c:\\users\\user\\pycharmprojects\\pythonproject\\venv\\lib\\site-packages (from sentence-transformers) (0.14.1)\n",
      "Requirement already satisfied: scipy in c:\\users\\user\\pycharmprojects\\pythonproject\\venv\\lib\\site-packages (from sentence-transformers) (1.10.1)\n",
      "Requirement already satisfied: numpy in c:\\users\\user\\pycharmprojects\\pythonproject\\venv\\lib\\site-packages (from sentence-transformers) (1.24.3)\n",
      "Requirement already satisfied: torchvision in c:\\users\\user\\pycharmprojects\\pythonproject\\venv\\lib\\site-packages (from sentence-transformers) (0.15.2+cu118)\n",
      "Requirement already satisfied: torch>=1.6.0 in c:\\users\\user\\pycharmprojects\\pythonproject\\venv\\lib\\site-packages (from sentence-transformers) (2.0.1+cu118)\n",
      "Requirement already satisfied: sentencepiece in c:\\users\\user\\pycharmprojects\\pythonproject\\venv\\lib\\site-packages (from sentence-transformers) (0.1.99)\n",
      "Requirement already satisfied: tqdm in c:\\users\\user\\pycharmprojects\\pythonproject\\venv\\lib\\site-packages (from sentence-transformers) (4.65.0)\n",
      "Requirement already satisfied: scikit-learn in c:\\users\\user\\pycharmprojects\\pythonproject\\venv\\lib\\site-packages (from sentence-transformers) (1.2.2)\n",
      "Requirement already satisfied: transformers<5.0.0,>=4.6.0 in c:\\users\\user\\pycharmprojects\\pythonproject\\venv\\lib\\site-packages (from sentence-transformers) (4.29.2)\n",
      "Requirement already satisfied: nltk in c:\\users\\user\\pycharmprojects\\pythonproject\\venv\\lib\\site-packages (from sentence-transformers) (3.8.1)\n",
      "Requirement already satisfied: packaging>=20.9 in c:\\users\\user\\pycharmprojects\\pythonproject\\venv\\lib\\site-packages (from huggingface-hub>=0.4.0->sentence-transformers) (23.1)\n",
      "Requirement already satisfied: requests in c:\\users\\user\\pycharmprojects\\pythonproject\\venv\\lib\\site-packages (from huggingface-hub>=0.4.0->sentence-transformers) (2.28.1)\n",
      "Requirement already satisfied: typing-extensions>=3.7.4.3 in c:\\users\\user\\pycharmprojects\\pythonproject\\venv\\lib\\site-packages (from huggingface-hub>=0.4.0->sentence-transformers) (4.4.0)\n",
      "Requirement already satisfied: pyyaml>=5.1 in c:\\users\\user\\pycharmprojects\\pythonproject\\venv\\lib\\site-packages (from huggingface-hub>=0.4.0->sentence-transformers) (6.0)\n",
      "Requirement already satisfied: filelock in c:\\users\\user\\pycharmprojects\\pythonproject\\venv\\lib\\site-packages (from huggingface-hub>=0.4.0->sentence-transformers) (3.9.0)\n",
      "Requirement already satisfied: fsspec in c:\\users\\user\\pycharmprojects\\pythonproject\\venv\\lib\\site-packages (from huggingface-hub>=0.4.0->sentence-transformers) (2023.5.0)\n",
      "Requirement already satisfied: jinja2 in c:\\users\\user\\pycharmprojects\\pythonproject\\venv\\lib\\site-packages (from torch>=1.6.0->sentence-transformers) (3.1.2)\n",
      "Requirement already satisfied: sympy in c:\\users\\user\\pycharmprojects\\pythonproject\\venv\\lib\\site-packages (from torch>=1.6.0->sentence-transformers) (1.11.1)\n",
      "Requirement already satisfied: networkx in c:\\users\\user\\pycharmprojects\\pythonproject\\venv\\lib\\site-packages (from torch>=1.6.0->sentence-transformers) (3.0)\n",
      "Requirement already satisfied: colorama in c:\\users\\user\\pycharmprojects\\pythonproject\\venv\\lib\\site-packages (from tqdm->sentence-transformers) (0.4.6)\n",
      "Requirement already satisfied: tokenizers!=0.11.3,<0.14,>=0.11.1 in c:\\users\\user\\pycharmprojects\\pythonproject\\venv\\lib\\site-packages (from transformers<5.0.0,>=4.6.0->sentence-transformers) (0.13.3)\n",
      "Requirement already satisfied: regex!=2019.12.17 in c:\\users\\user\\pycharmprojects\\pythonproject\\venv\\lib\\site-packages (from transformers<5.0.0,>=4.6.0->sentence-transformers) (2023.5.5)\n",
      "Requirement already satisfied: click in c:\\users\\user\\pycharmprojects\\pythonproject\\venv\\lib\\site-packages (from nltk->sentence-transformers) (8.1.3)\n",
      "Requirement already satisfied: joblib in c:\\users\\user\\pycharmprojects\\pythonproject\\venv\\lib\\site-packages (from nltk->sentence-transformers) (1.2.0)\n",
      "Requirement already satisfied: threadpoolctl>=2.0.0 in c:\\users\\user\\pycharmprojects\\pythonproject\\venv\\lib\\site-packages (from scikit-learn->sentence-transformers) (3.1.0)\n",
      "Requirement already satisfied: pillow!=8.3.*,>=5.3.0 in c:\\users\\user\\pycharmprojects\\pythonproject\\venv\\lib\\site-packages (from torchvision->sentence-transformers) (9.3.0)\n",
      "Requirement already satisfied: MarkupSafe>=2.0 in c:\\users\\user\\pycharmprojects\\pythonproject\\venv\\lib\\site-packages (from jinja2->torch>=1.6.0->sentence-transformers) (2.1.2)\n",
      "Requirement already satisfied: certifi>=2017.4.17 in c:\\users\\user\\pycharmprojects\\pythonproject\\venv\\lib\\site-packages (from requests->huggingface-hub>=0.4.0->sentence-transformers) (2022.12.7)\n",
      "Requirement already satisfied: urllib3<1.27,>=1.21.1 in c:\\users\\user\\pycharmprojects\\pythonproject\\venv\\lib\\site-packages (from requests->huggingface-hub>=0.4.0->sentence-transformers) (1.26.13)\n",
      "Requirement already satisfied: idna<4,>=2.5 in c:\\users\\user\\pycharmprojects\\pythonproject\\venv\\lib\\site-packages (from requests->huggingface-hub>=0.4.0->sentence-transformers) (3.4)\n",
      "Requirement already satisfied: charset-normalizer<3,>=2 in c:\\users\\user\\pycharmprojects\\pythonproject\\venv\\lib\\site-packages (from requests->huggingface-hub>=0.4.0->sentence-transformers) (2.1.1)\n",
      "Requirement already satisfied: mpmath>=0.19 in c:\\users\\user\\pycharmprojects\\pythonproject\\venv\\lib\\site-packages (from sympy->torch>=1.6.0->sentence-transformers) (1.2.1)\n"
     ]
    },
    {
     "name": "stderr",
     "output_type": "stream",
     "text": [
      "\n",
      "[notice] A new release of pip available: 22.3.1 -> 23.1.2\n",
      "[notice] To update, run: python.exe -m pip install --upgrade pip\n"
     ]
    }
   ],
   "source": [
    "!pip install sentence-transformers"
   ],
   "metadata": {
    "collapsed": false,
    "ExecuteTime": {
     "start_time": "2023-06-16T18:15:26.548714Z",
     "end_time": "2023-06-16T18:15:28.996684Z"
    }
   }
  },
  {
   "cell_type": "code",
   "execution_count": 1,
   "outputs": [],
   "source": [
    "import torch\n",
    "from torch.utils.data import Dataset\n",
    "from torch import nn\n",
    "import numpy as np\n",
    "from torch.utils.data import DataLoader\n",
    "import lightning.pytorch as pl\n",
    "import cv2\n",
    "import albumentations as A\n",
    "from albumentations.pytorch import ToTensorV2\n",
    "import h5py\n",
    "import io\n",
    "from PIL import Image\n",
    "import matplotlib.pyplot as plt\n",
    "import torchvision\n",
    "import shutil\n",
    "import os\n",
    "from sentence_transformers import SentenceTransformer\n",
    "from torch.utils.data import ConcatDataset\n",
    "from torchvision.models import vgg19"
   ],
   "metadata": {
    "collapsed": false,
    "ExecuteTime": {
     "start_time": "2023-06-20T17:22:46.594038Z",
     "end_time": "2023-06-20T17:22:50.759986Z"
    }
   }
  },
  {
   "cell_type": "code",
   "execution_count": 2,
   "outputs": [],
   "source": [
    "def createDatasetWithMPNetEmbeddings(hdf5_file, device):\n",
    "    if (os.path.exists(hdf5_file[0:-5] + '(new embeddings).hdf5')):\n",
    "        return print('The dataset is already exist')\n",
    "    else:\n",
    "        shutil.copyfile(hdf5_file, hdf5_file[0:-5] + '(new embeddings).hdf5')\n",
    "        dataset = h5py.File(hdf5_file[0:-5] + '(new embeddings).hdf5', mode='r+')\n",
    "        encoder = SentenceTransformer('all-mpnet-base-v2', device=device)\n",
    "        for datatype in dataset.keys():\n",
    "            for example_name in dataset[datatype].keys():\n",
    "                example = dataset[datatype][example_name]\n",
    "                text = str(np.array(example['txt']))[2:-3]\n",
    "                embeddings = encoder.encode([text])[0]\n",
    "                del dataset[datatype][example_name]['embeddings']\n",
    "                dataset[datatype][example_name]['embeddings'] = embeddings\n",
    "        dataset.close()"
   ],
   "metadata": {
    "collapsed": false,
    "ExecuteTime": {
     "start_time": "2023-06-20T17:22:52.429230Z",
     "end_time": "2023-06-20T17:22:52.444219Z"
    }
   }
  },
  {
   "cell_type": "code",
   "execution_count": 3,
   "outputs": [
    {
     "name": "stdout",
     "output_type": "stream",
     "text": [
      "The dataset is already exist\n"
     ]
    }
   ],
   "source": [
    "createDatasetWithMPNetEmbeddings('flowers.hdf5', 'cuda')"
   ],
   "metadata": {
    "collapsed": false,
    "ExecuteTime": {
     "start_time": "2023-06-17T18:44:23.788943Z",
     "end_time": "2023-06-17T18:44:23.835836Z"
    }
   }
  },
  {
   "cell_type": "code",
   "execution_count": 44,
   "metadata": {
    "ExecuteTime": {
     "start_time": "2023-06-20T17:40:44.773166Z",
     "end_time": "2023-06-20T17:40:44.795598Z"
    },
    "execution": {
     "iopub.execute_input": "2023-05-27T15:37:33.831866Z",
     "iopub.status.busy": "2023-05-27T15:37:33.831469Z",
     "iopub.status.idle": "2023-05-27T15:37:33.848984Z",
     "shell.execute_reply": "2023-05-27T15:37:33.848017Z",
     "shell.execute_reply.started": "2023-05-27T15:37:33.831832Z"
    },
    "id": "J0PsYSPJZNqE"
   },
   "outputs": [],
   "source": [
    "class Text2ImageDataset(Dataset):\n",
    "    def __init__(self,\n",
    "                 datasetFile,\n",
    "                 image_size,\n",
    "                 transform=None,\n",
    "                 datatype='train'):\n",
    "      self.datasetFile = datasetFile\n",
    "      self.transform = transform\n",
    "      self.dataset = h5py.File(self.datasetFile, mode='r')\n",
    "      self.datatype = datatype\n",
    "      self.dataset_keys = [str(k) for k in self.dataset[datatype].keys()]\n",
    "      self.resize_transform = A.Compose([\n",
    "          A.Resize(height=image_size, width=image_size, interpolation=cv2.INTER_LANCZOS4, always_apply=True),\n",
    "      ])\n",
    "\n",
    "    def __len__(self):\n",
    "        return len(self.dataset[self.datatype])\n",
    "\n",
    "    def __getitem__(self, idx):\n",
    "        example_name = self.dataset_keys[idx]\n",
    "        example = self.dataset[self.datatype][example_name]\n",
    "\n",
    "        right_image = bytes(np.array(example['img']))\n",
    "        right_image = np.array(Image.open(io.BytesIO(right_image)))\n",
    "        right_txt = str(np.array(example['txt']))\n",
    "        right_embed = np.array(example['embeddings'], dtype=float)\n",
    "        right_embed = torch.tensor(right_embed, dtype=torch.float32)\n",
    "        \n",
    "        wrong_example = self.getWrongImageTextEmbedding(example['class'])\n",
    "        wrong_image = bytes(np.array(wrong_example['img']))\n",
    "        wrong_image = np.array(Image.open(io.BytesIO(wrong_image)))\n",
    "        wrong_embed = wrong_example['embeddings']\n",
    "        wrong_embed = torch.tensor(wrong_embed, dtype=torch.float32)\n",
    "\n",
    "        if(len(right_image.shape) < 3):\n",
    "          right_image = cv2.cvtColor(right_image[:, :, None], cv2.COLOR_GRAY2RGB)\n",
    "        \n",
    "        if(len(wrong_image.shape) < 3):\n",
    "          wrong_image = cv2.cvtColor(wrong_image[:, :, None], cv2.COLOR_GRAY2RGB)\n",
    "\n",
    "        right_image = self.resize_transform(image=right_image)['image']\n",
    "        wrong_image = self.resize_transform(image=wrong_image)['image']\n",
    "\n",
    "        if(self.transform):\n",
    "          right_image = self.transform(image=right_image)['image']\n",
    "          wrong_image = self.transform(image=wrong_image)['image']\n",
    "\n",
    "        sample = {\n",
    "                'right_images': right_image,\n",
    "                'right_embeddings': right_embed,\n",
    "                'wrong_images': wrong_image,\n",
    "                'wrong_embeddings' : wrong_embed,\n",
    "                'right_txt': right_txt\n",
    "                 }\n",
    "\n",
    "        return sample\n",
    "\n",
    "    def getWrongImageTextEmbedding(self, category):\n",
    "        idx = np.random.randint(len(self.dataset_keys))\n",
    "        example_name = self.dataset_keys[idx]\n",
    "        example = self.dataset[self.datatype][example_name]\n",
    "        _category = example['class']\n",
    "\n",
    "        if _category != category:\n",
    "            return example\n",
    "\n",
    "        return self.getWrongImageTextEmbedding(category)"
   ]
  },
  {
   "cell_type": "code",
   "execution_count": 45,
   "metadata": {
    "ExecuteTime": {
     "start_time": "2023-06-20T17:40:46.966455Z",
     "end_time": "2023-06-20T17:40:46.988396Z"
    },
    "execution": {
     "iopub.execute_input": "2023-05-27T15:45:02.240721Z",
     "iopub.status.busy": "2023-05-27T15:45:02.239614Z",
     "iopub.status.idle": "2023-05-27T15:45:02.252545Z",
     "shell.execute_reply": "2023-05-27T15:45:02.251380Z",
     "shell.execute_reply.started": "2023-05-27T15:45:02.240668Z"
    },
    "id": "89UwHXUmeJiY"
   },
   "outputs": [],
   "source": [
    "# -------------------\n",
    "# Step 2: Define train, validation, test data in DataModule\n",
    "# -------------------\n",
    "\n",
    "class DataModule(pl.LightningDataModule):\n",
    "    def __init__(self,\n",
    "                 h5pyfile,\n",
    "                 image_size,\n",
    "                 batch_size):\n",
    "      super().__init__()\n",
    "      self.h5pyfile = h5pyfile\n",
    "      self.batch_size = batch_size\n",
    "      self.image_size = image_size\n",
    "      self.train_transform = A.Compose([\n",
    "          #A.HorizontalFlip(p=0.75),\n",
    "          #A.HueSaturationValue(hue_shift_limit=(0, 0), sat_shift_limit=(0, 30), val_shift_limit=(0, 20), p=0.5),\n",
    "          #A.Sharpen(alpha=(0, 0.30), lightness=(0, 0), p=0.5),\n",
    "          A.Normalize((0.5, 0.5, 0.5), (0.5, 0.5, 0.5)),\n",
    "          ToTensorV2()\n",
    "      ])\n",
    "      self.val_transform = A.Compose([\n",
    "          A.Normalize((0.5, 0.5, 0.5), (0.5, 0.5, 0.5)),\n",
    "          ToTensorV2()\n",
    "      ])\n",
    "    \n",
    "    def setup(self, stage=None):\n",
    "      self.train_dataset = Text2ImageDataset(self.h5pyfile, self.image_size, self.train_transform, 'train')\n",
    "      self.val_dataset = Text2ImageDataset(self.h5pyfile, self.image_size, self.val_transform, 'valid')\n",
    "      #self.train_dataset = ConcatDataset([self.train_dataset, self.val_dataset]) # we'll concat two datasets because we don't need val dataset during training GAN\n",
    "      self.test_dataset = Text2ImageDataset(self.h5pyfile, self.image_size, self.val_transform, 'test')\n",
    "\n",
    "    def train_dataloader(self):\n",
    "        return DataLoader(self.train_dataset, batch_size=self.batch_size, shuffle=False, num_workers=0)\n",
    "    \n",
    "    def test_dataloader(self):\n",
    "        return DataLoader(self.test_dataset, batch_size=self.batch_size, shuffle=False, num_workers=0)"
   ]
  },
  {
   "cell_type": "code",
   "execution_count": 46,
   "metadata": {
    "ExecuteTime": {
     "start_time": "2023-06-20T17:40:48.244667Z",
     "end_time": "2023-06-20T17:40:48.267755Z"
    },
    "execution": {
     "iopub.execute_input": "2023-05-27T15:45:04.034290Z",
     "iopub.status.busy": "2023-05-27T15:45:04.033930Z",
     "iopub.status.idle": "2023-05-27T15:45:04.044661Z",
     "shell.execute_reply": "2023-05-27T15:45:04.043813Z",
     "shell.execute_reply.started": "2023-05-27T15:45:04.034261Z"
    },
    "id": "3XAtKZLkD8Bs"
   },
   "outputs": [],
   "source": [
    "# --------------------------------\n",
    "# Step 3: Build your network\n",
    "# --------------------------------\n",
    "class Conv2D(nn.Module):\n",
    "    def __init__(self, \n",
    "                 in_channels,\n",
    "                 out_channels,\n",
    "                 kernel_size,\n",
    "                 stride,\n",
    "                 padding,\n",
    "                 activation=nn.ReLU,\n",
    "                 batch_norm=nn.BatchNorm2d,\n",
    "                 if_act=True,\n",
    "                 if_batch_norm=True):\n",
    "        super().__init__()\n",
    "        layers = []\n",
    "        conv2D = nn.Conv2d(in_channels=in_channels, out_channels=out_channels, kernel_size=kernel_size, stride=stride, padding=padding, bias=False)\n",
    "        layers.append(conv2D)\n",
    "        if(if_batch_norm):\n",
    "            layers.append(batch_norm(out_channels, affine=True))\n",
    "        if(if_act):\n",
    "            layers.append(activation)\n",
    "        self.convolution2D = nn.Sequential(*layers)\n",
    "\n",
    "    def forward(self, x):\n",
    "        return self.convolution2D(x)"
   ]
  },
  {
   "cell_type": "code",
   "execution_count": 47,
   "metadata": {
    "ExecuteTime": {
     "start_time": "2023-06-20T17:40:48.721959Z",
     "end_time": "2023-06-20T17:40:48.740908Z"
    },
    "execution": {
     "iopub.execute_input": "2023-05-27T20:20:21.580280Z",
     "iopub.status.busy": "2023-05-27T20:20:21.579858Z",
     "iopub.status.idle": "2023-05-27T20:20:21.589061Z",
     "shell.execute_reply": "2023-05-27T20:20:21.587821Z",
     "shell.execute_reply.started": "2023-05-27T20:20:21.580238Z"
    },
    "id": "LRtgxxA2Gph6"
   },
   "outputs": [],
   "source": [
    "class ConvTranspose2D(nn.Module):\n",
    "    def __init__(self,\n",
    "                 in_channels,\n",
    "                 out_channels,\n",
    "                 kernel_size,\n",
    "                 stride,\n",
    "                 padding,\n",
    "                 activation,\n",
    "                 if_act=True,\n",
    "                 if_batch_norm=True):\n",
    "        super().__init__()\n",
    "        layers = []\n",
    "        conv_tr_2d = nn.ConvTranspose2d(in_channels=in_channels, out_channels=out_channels, kernel_size=kernel_size, stride=stride, padding=padding, bias=False)\n",
    "        batch_norm = nn.BatchNorm2d(out_channels)\n",
    "        layers.append(conv_tr_2d)\n",
    "        if(if_batch_norm):\n",
    "            layers.append(batch_norm)\n",
    "        if(if_act):\n",
    "            layers.append(activation)\n",
    "        self.conv_transpose2d = nn.Sequential(*layers)\n",
    "\n",
    "    def forward(self, x):\n",
    "        return self.conv_transpose2d(x)"
   ]
  },
  {
   "cell_type": "code",
   "execution_count": 48,
   "metadata": {
    "ExecuteTime": {
     "start_time": "2023-06-20T17:40:49.232066Z",
     "end_time": "2023-06-20T17:40:49.261610Z"
    },
    "execution": {
     "iopub.execute_input": "2023-05-27T20:20:24.366603Z",
     "iopub.status.busy": "2023-05-27T20:20:24.366253Z",
     "iopub.status.idle": "2023-05-27T20:20:24.373933Z",
     "shell.execute_reply": "2023-05-27T20:20:24.372710Z",
     "shell.execute_reply.started": "2023-05-27T20:20:24.366575Z"
    },
    "id": "cEq82GL_H6nh"
   },
   "outputs": [],
   "source": [
    "class LinearProjection(nn.Module):\n",
    "    def __init__(self,\n",
    "                 in_embedding_dim,\n",
    "                 projected_embedding_dim,\n",
    "                 activation):\n",
    "        super().__init__()\n",
    "        projection = nn.Linear(in_features=in_embedding_dim, out_features=projected_embedding_dim)\n",
    "        batch_norm = nn.BatchNorm1d(projected_embedding_dim)\n",
    "        self.linear_proj = nn.Sequential(projection, batch_norm, activation)\n",
    "\n",
    "    def forward(self, x):\n",
    "        return self.linear_proj(x)"
   ]
  },
  {
   "cell_type": "code",
   "execution_count": 49,
   "metadata": {
    "ExecuteTime": {
     "start_time": "2023-06-20T17:40:49.799606Z",
     "end_time": "2023-06-20T17:40:49.823542Z"
    },
    "execution": {
     "iopub.execute_input": "2023-05-27T20:20:47.486154Z",
     "iopub.status.busy": "2023-05-27T20:20:47.485793Z",
     "iopub.status.idle": "2023-05-27T20:20:47.507067Z",
     "shell.execute_reply": "2023-05-27T20:20:47.504721Z",
     "shell.execute_reply.started": "2023-05-27T20:20:47.486126Z"
    },
    "id": "UBZuK39DJPLa"
   },
   "outputs": [],
   "source": [
    "class Generator(nn.Module):\n",
    "  def __init__(self,\n",
    "               in_embedding_dim,\n",
    "               projected_embedding_dim,\n",
    "               noise_dim,\n",
    "               channels_dim,\n",
    "               out_channels):\n",
    "    super(Generator, self).__init__()\n",
    "    concat_dim = projected_embedding_dim + noise_dim\n",
    "    self.linear_projection = LinearProjection(in_embedding_dim=in_embedding_dim, projected_embedding_dim=projected_embedding_dim, activation = nn.LeakyReLU(negative_slope=0.2, inplace=True))\n",
    "    self.generator = nn.Sequential(ConvTranspose2D(in_channels=concat_dim, out_channels=channels_dim * 8, kernel_size=4, stride=1, padding=0, activation=nn.ReLU(inplace=True)),\n",
    "                                   # Output: (channels_dim*8) x 4 x 4\n",
    "                                   ConvTranspose2D(in_channels=channels_dim * 8, out_channels=channels_dim * 4, kernel_size=4, stride=2, padding=1, activation=nn.ReLU(inplace=True)), # Output: (channels_dim*4) x 8 x 8\n",
    "                                   ConvTranspose2D(in_channels=channels_dim * 4, out_channels=channels_dim * 2, kernel_size=4, stride=2, padding=1, activation=nn.ReLU(inplace=True)), # Output: (channels_dim*2) x 16 x 16                                  \n",
    "                                   ConvTranspose2D(in_channels=channels_dim * 2, out_channels=channels_dim, kernel_size=4, stride=2, padding=1, activation=nn.ReLU(inplace=True)), # Output: (channels_dim) x 32 x 32                                  \n",
    "                                   ConvTranspose2D(in_channels=channels_dim, out_channels=out_channels, kernel_size=4, stride=2, padding=1, activation=nn.Tanh(), if_batch_norm=False) # Output: (out_channels) x 64 x 64\n",
    "                                  )\n",
    "  \n",
    "  def forward(self, input_embedding, noise):\n",
    "    x = self.linear_projection(input_embedding).unsqueeze(2).unsqueeze(3)\n",
    "    x = torch.cat([x, noise], 1)\n",
    "    x = self.generator(x)\n",
    "    return x\n",
    "\n",
    "class Discriminator(nn.Module):\n",
    "  def __init__(self,\n",
    "               in_channels,\n",
    "               channels_dim,\n",
    "               out_embedding_dim,\n",
    "               out_projected_embedding_dim):\n",
    "    super(Discriminator, self).__init__()\n",
    "    self.discriminator = nn.Sequential(Conv2D(in_channels=in_channels, out_channels=channels_dim, kernel_size=4, stride=2, padding=1, activation=nn.LeakyReLU(negative_slope=0.2, inplace=True), if_batch_norm=False),\n",
    "                                       Conv2D(in_channels=channels_dim, out_channels=channels_dim * 2, kernel_size=4, stride=2, padding=1, activation=nn.LeakyReLU(negative_slope=0.2, inplace=True), batch_norm=nn.BatchNorm2d),\n",
    "                                       Conv2D(in_channels=channels_dim * 2, out_channels=channels_dim * 4, kernel_size=4, stride=2, padding=1, activation=nn.LeakyReLU(negative_slope=0.2, inplace=True), batch_norm=nn.BatchNorm2d),\n",
    "                                       Conv2D(in_channels=channels_dim * 4, out_channels=channels_dim * 8, kernel_size=4, stride=2, padding=1, activation=nn.LeakyReLU(negative_slope=0.2, inplace=True), batch_norm=nn.BatchNorm2d)\n",
    "                                      )\n",
    "    self.linear_projection = LinearProjection(in_embedding_dim=out_embedding_dim, projected_embedding_dim=out_projected_embedding_dim, activation = nn.LeakyReLU(negative_slope=0.2, inplace=True))\n",
    "    self.last_conv2d_1 = Conv2D(in_channels=(channels_dim * 8) + out_projected_embedding_dim, out_channels=channels_dim * 8, kernel_size=1, stride=1, padding=0, activation=nn.LeakyReLU(negative_slope=0.2, inplace=True), batch_norm=nn.BatchNorm2d)\n",
    "    self.last_conv2d_2 = Conv2D(in_channels=channels_dim * 8, out_channels=1, kernel_size=4, stride=1, padding=0, if_act=False, if_batch_norm=False)\n",
    "    self.sigmoid_act = nn.Sigmoid()\n",
    "    \n",
    "  def forward(self, input_image, input_embedding):\n",
    "    x_d = self.discriminator(input_image)\n",
    "    projected_embedding = self.linear_projection(input_embedding)\n",
    "    replicated_embedding = projected_embedding.repeat(4, 4, 1, 1).permute(2, 3, 0, 1)\n",
    "    x = torch.cat([x_d, replicated_embedding], 1)\n",
    "    x = self.last_conv2d_1(x)\n",
    "    x = self.last_conv2d_2(x)\n",
    "    x = self.sigmoid_act(x)\n",
    "    return torch.flatten(x), x_d"
   ]
  },
  {
   "cell_type": "code",
   "execution_count": 50,
   "outputs": [],
   "source": [
    "class FeaturesFromVGG19(nn.Module):\n",
    "  def __init__(self,\n",
    "               device):\n",
    "    super().__init__()\n",
    "    vgg = vgg19(pretrained=True).to(device)\n",
    "    self.vgg = nn.Sequential(*list(vgg.features)[:-3]).eval() # last conv features before activation\n",
    "    for p in self.vgg.parameters():\n",
    "      p.requires_grad = False\n",
    "    self.normalize_input = torchvision.transforms.Normalize(mean=(0.485, 0.456, 0.406), std=(0.229, 0.224, 0.225))\n",
    "\n",
    "  def forward(self, x):\n",
    "    x = self.normalize_input(x)\n",
    "    return self.vgg(x)"
   ],
   "metadata": {
    "collapsed": false,
    "ExecuteTime": {
     "start_time": "2023-06-20T17:40:50.543760Z",
     "end_time": "2023-06-20T17:40:50.568678Z"
    }
   }
  },
  {
   "cell_type": "code",
   "execution_count": 51,
   "outputs": [],
   "source": [
    "class VGGLoss(nn.Module):\n",
    "    def __init__(self):\n",
    "        super(VGGLoss, self).__init__()\n",
    "        self.layer_ids = [3, 8, 15, 22, 29]\n",
    "        self.loss_weights = [1.0, 0.75, 0.5, 0.25, 0.1]\n",
    "        self.model = vgg19(pretrained=True).features[:max(self.layer_ids) + 1].to(device)\n",
    "        self.criterion = nn.MSELoss()\n",
    "        self.normalize_input = torchvision.transforms.Normalize(mean=(0.485, 0.456, 0.406), std=(0.229, 0.224, 0.225))\n",
    "\n",
    "    def forward(self, input, target):\n",
    "        input = self.normalize_input(input)\n",
    "        target = self.normalize_input(target)\n",
    "        input_features = self.model(input)\n",
    "        target_features = self.model(target)\n",
    "\n",
    "        loss = 0\n",
    "        for i, layer_id in enumerate(self.layer_ids):\n",
    "            input_feat = input_features[layer_id]\n",
    "            target_feat = target_features[layer_id]\n",
    "            loss = self.loss_weights[i] * self.criterion(input_feat, target_feat) + loss\n",
    "        return loss"
   ],
   "metadata": {
    "collapsed": false,
    "ExecuteTime": {
     "start_time": "2023-06-20T17:40:50.999257Z",
     "end_time": "2023-06-20T17:40:51.017743Z"
    }
   }
  },
  {
   "cell_type": "code",
   "execution_count": 52,
   "metadata": {
    "ExecuteTime": {
     "start_time": "2023-06-20T17:40:51.692732Z",
     "end_time": "2023-06-20T17:40:51.705698Z"
    },
    "execution": {
     "iopub.execute_input": "2023-05-27T20:20:53.642557Z",
     "iopub.status.busy": "2023-05-27T20:20:53.642200Z",
     "iopub.status.idle": "2023-05-27T20:20:53.665148Z",
     "shell.execute_reply": "2023-05-27T20:20:53.664162Z",
     "shell.execute_reply.started": "2023-05-27T20:20:53.642526Z"
    },
    "id": "JIH2WL6dgKoV"
   },
   "outputs": [],
   "source": [
    "# --------------------------------\n",
    "# Step 4: Compile your model\n",
    "# --------------------------------\n",
    "class ModelCompilation(pl.LightningModule):\n",
    "    def __init__(self,\n",
    "                 model,\n",
    "                 z_dim,\n",
    "                 optimizer,\n",
    "                 learning_rate,\n",
    "                 l1_coeff,\n",
    "                 l2_coeff_fm_d,\n",
    "                 l2_coeff_fm_vgg):\n",
    "        super().__init__()\n",
    "        self.generator = model['generator']\n",
    "        self.discriminator = model['discriminator']\n",
    "        self.g_learning_rate = learning_rate['generator']\n",
    "        self.d_learning_rate = learning_rate['discriminator']\n",
    "        self.z_dim = z_dim\n",
    "        self.optimizer = optimizer\n",
    "        self.automatic_optimization = False\n",
    "\n",
    "        self.initialize_weights(self.generator)\n",
    "        self.initialize_weights(self.discriminator)\n",
    "        \n",
    "        self.bce_loss = nn.BCELoss()\n",
    "        self.l2_loss = nn.MSELoss()\n",
    "        self.l1_loss = nn.L1Loss()\n",
    "        self.l1_coeff = l1_coeff\n",
    "        self.l2_coeff_fm_d = l2_coeff_fm_d\n",
    "        self.l2_coeff_fm_vgg = l2_coeff_fm_vgg\n",
    "\n",
    "        self.vgg = FeaturesFromVGG19(device)\n",
    "        #self.vgg_loss = VGGLoss()\n",
    "\n",
    "    def forward(self, x):\n",
    "      pass\n",
    "    \n",
    "    def configure_optimizers(self):\n",
    "        self.gen_optimizer = self.optimizer(self.generator.parameters(), lr=self.g_learning_rate, betas=(0.5, 0.99))\n",
    "        self.dis_optimizer = self.optimizer(self.discriminator.parameters(), lr=self.d_learning_rate, betas=(0.5, 0.99))\n",
    "        return [self.gen_optimizer, self.dis_optimizer], []\n",
    "\n",
    "    def training_step(self, batch, batch_idx):\n",
    "      right_images = batch['right_images'].to(device)\n",
    "      right_embeddings = batch['right_embeddings'].to(device)\n",
    "      wrong_images = batch['wrong_images'].to(device)\n",
    "      wrong_embeddings = batch['wrong_embeddings'].to(device)\n",
    "\n",
    "      right_labels = torch.ones(right_images.size(0)).to(device)\n",
    "      fake_labels = torch.zeros(right_images.size(0)).to(device)\n",
    "\n",
    "      ################## Train Discriminator########################\n",
    "      self.dis_optimizer.zero_grad()\n",
    "      right_outputs, _ = self.discriminator(right_images, right_embeddings)\n",
    "      real_loss = self.bce_loss(right_outputs, right_labels-0.1)\n",
    "\n",
    "      noise = torch.randn(right_images.size(0), self.z_dim, 1, 1).to(device)\n",
    "      fake_images = self.generator(right_embeddings, noise)\n",
    "      fake_outputs, _ = self.discriminator(fake_images, right_embeddings)\n",
    "      fake_loss = self.bce_loss(fake_outputs, fake_labels)\n",
    "    \n",
    "      wrong_img_outputs, _ = self.discriminator(wrong_images, right_embeddings)\n",
    "      wrong_text_outputs, _  = self.discriminator(right_images, wrong_embeddings)\n",
    "      wrong_loss = 0.5*(self.bce_loss(wrong_img_outputs, fake_labels) + self.bce_loss(wrong_text_outputs, fake_labels))\n",
    "\n",
    "      d_loss = real_loss + fake_loss + wrong_loss\n",
    "        \n",
    "      self.manual_backward(d_loss)\n",
    "      self.dis_optimizer.step()\n",
    "\n",
    "      ################## Train Generator########################\n",
    "      self.gen_optimizer.zero_grad()\n",
    "      noise = torch.randn(right_images.size(0), self.z_dim, 1, 1).to(device)\n",
    "      fake_images = self.generator(right_embeddings, noise)\n",
    "      fake_outputs, activation_fake = self.discriminator(fake_images, right_embeddings)\n",
    "      right_outputs, activation_real = self.discriminator(right_images, right_embeddings)\n",
    "      \n",
    "      activation_fake = torch.mean(activation_fake, 0)\n",
    "      activation_real = torch.mean(activation_real, 0)\n",
    "\n",
    "      bce_loss = self.bce_loss(fake_outputs, right_labels)\n",
    "      l1_loss = self.l1_coeff * self.l1_loss(fake_images, right_images)\n",
    "      l2_disc_fn_loss = self.l2_coeff_fm_d * self.l2_loss(activation_fake, activation_real.detach())\n",
    "      l2_vgg_fn_loss = self.l2_coeff_fm_vgg * self.l2_loss(self.vgg(right_images), self.vgg(fake_images))\n",
    "      #l2_vgg_fn_loss = self.vgg_loss(fake_images, right_images)\n",
    "\n",
    "      g_loss = bce_loss + l2_disc_fn_loss + l1_loss  + l2_vgg_fn_loss\n",
    "\n",
    "      self.manual_backward(g_loss)\n",
    "      self.gen_optimizer.step()\n",
    "\n",
    "      ################## LOGGING ########################\n",
    "      self.log('train_generator_' + 'loss', g_loss, on_step=True, on_epoch=True, prog_bar=True, logger=True)\n",
    "      self.log('train_discriminator_' + 'loss', d_loss, on_step=True, on_epoch=True, prog_bar=True, logger=True)\n",
    "\n",
    "      self.fake = fake_images\n",
    "      self.right = right_images\n",
    "\n",
    "    def on_train_epoch_end(self):\n",
    "        grid = torchvision.utils.make_grid(self.fake[:24, ...], nrow=4, normalize=True, scale_each=True)\n",
    "        fig = plt.figure(figsize=(10, 10))\n",
    "        plt.imshow(np.moveaxis(grid.detach().cpu().numpy(), 0, -1), aspect='auto')\n",
    "        plt.axis('off')\n",
    "        plt.savefig('sample_' + str(self.current_epoch) + '.png')\n",
    "\n",
    "    def initialize_weights(self, model):\n",
    "        # Initializes weights according to the DCGAN paper\n",
    "        for m in model.modules():\n",
    "            if isinstance(m, (nn.Conv2d, nn.ConvTranspose2d, nn.BatchNorm2d)):\n",
    "                nn.init.normal_(m.weight.data, 0.0, 0.02)"
   ]
  },
  {
   "cell_type": "code",
   "execution_count": 53,
   "metadata": {
    "ExecuteTime": {
     "start_time": "2023-06-20T17:40:54.644577Z",
     "end_time": "2023-06-20T17:40:54.666890Z"
    },
    "execution": {
     "iopub.execute_input": "2023-05-27T20:20:56.288343Z",
     "iopub.status.busy": "2023-05-27T20:20:56.287626Z",
     "iopub.status.idle": "2023-05-27T20:20:56.293171Z",
     "shell.execute_reply": "2023-05-27T20:20:56.292215Z",
     "shell.execute_reply.started": "2023-05-27T20:20:56.288308Z"
    },
    "id": "IYXHBZ67Gk2k"
   },
   "outputs": [],
   "source": [
    "# -------------------\n",
    "# Step 5: Init your DataModule\n",
    "# -------------------\n",
    "\n",
    "batch_size = 64\n",
    "image_size = 64\n",
    "data_module = DataModule(h5pyfile='flowers(new embeddings).hdf5', image_size=image_size, batch_size=batch_size)"
   ]
  },
  {
   "cell_type": "code",
   "execution_count": 13,
   "metadata": {
    "ExecuteTime": {
     "start_time": "2023-06-20T17:23:05.051246Z",
     "end_time": "2023-06-20T17:23:06.757729Z"
    },
    "execution": {
     "iopub.execute_input": "2023-05-27T20:20:57.678391Z",
     "iopub.status.busy": "2023-05-27T20:20:57.677568Z",
     "iopub.status.idle": "2023-05-27T20:20:57.854244Z",
     "shell.execute_reply": "2023-05-27T20:20:57.853276Z",
     "shell.execute_reply.started": "2023-05-27T20:20:57.678353Z"
    },
    "id": "se8RHfXOINUD"
   },
   "outputs": [
    {
     "name": "stderr",
     "output_type": "stream",
     "text": [
      "C:\\Users\\user\\PycharmProjects\\pythonProject\\venv\\lib\\site-packages\\torchvision\\models\\_utils.py:208: UserWarning: The parameter 'pretrained' is deprecated since 0.13 and may be removed in the future, please use 'weights' instead.\n",
      "  warnings.warn(\n",
      "C:\\Users\\user\\PycharmProjects\\pythonProject\\venv\\lib\\site-packages\\torchvision\\models\\_utils.py:223: UserWarning: Arguments other than a weight enum or `None` for 'weights' are deprecated since 0.13 and may be removed in the future. The current behavior is equivalent to passing `weights=VGG19_Weights.IMAGENET1K_V1`. You can also use `weights=VGG19_Weights.DEFAULT` to get the most up-to-date weights.\n",
      "  warnings.warn(msg)\n",
      "GPU available: True (cuda), used: True\n",
      "TPU available: False, using: 0 TPU cores\n",
      "IPU available: False, using: 0 IPUs\n",
      "HPU available: False, using: 0 HPUs\n",
      "C:\\Users\\user\\PycharmProjects\\pythonProject\\venv\\lib\\site-packages\\lightning\\pytorch\\trainer\\connectors\\logger_connector\\logger_connector.py:67: UserWarning: Starting from v1.9.0, `tensorboardX` has been removed as a dependency of the `lightning.pytorch` package, due to potential conflicts with other packages in the ML ecosystem. For this reason, `logger=True` will use `CSVLogger` as the default logger, unless the `tensorboard` or `tensorboardX` packages are found. Please `pip install lightning[extra]` or one of them to enable TensorBoard support by default\n",
      "  warning_cache.warn(\n"
     ]
    }
   ],
   "source": [
    "# -------------------\n",
    "# Step 7: Init your model and its trainer with callbacks\n",
    "# -------------------\n",
    "\n",
    "device = 'cuda'\n",
    "embedding_dim = 768\n",
    "\n",
    "generator = Generator(in_embedding_dim=embedding_dim,\n",
    "                      projected_embedding_dim=128,\n",
    "                      noise_dim=100,\n",
    "                      channels_dim=64,\n",
    "                      out_channels=3)\n",
    "\n",
    "discriminator = Discriminator(in_channels=3,\n",
    "                channels_dim=64,\n",
    "                out_embedding_dim=embedding_dim,\n",
    "                out_projected_embedding_dim=128)\n",
    "\n",
    "gan = {'generator' : generator, 'discriminator' : discriminator}\n",
    "optimizer = torch.optim.Adam\n",
    "learning_rate = {'generator' : 2e-4, 'discriminator' : 2e-4}\n",
    "zdim = 100\n",
    "l1_coeff = 50         # for l1 loss - pixel-level difference between the generated image and the target (real) image (default 50)\n",
    "l2_coeff_fm_d = 100   # for feature matching loss of discriminator (default 100)\n",
    "l2_coeff_fm_vgg = 0.1   # for feature matching of vgg-19 (default 0)\n",
    "\n",
    "model = ModelCompilation(gan, zdim, optimizer, learning_rate, l1_coeff, l2_coeff_fm_d, l2_coeff_fm_vgg)\n",
    "trainer = pl.Trainer(precision='32', accelerator=device, devices=\"auto\", max_epochs=200, enable_checkpointing=True)\n",
    "# fast debug mode for your model\n",
    "#trainer = pl.Trainer(precision='32', accelerator=device, devices=\"auto\", fast_dev_run=5)"
   ]
  },
  {
   "cell_type": "code",
   "execution_count": 47,
   "metadata": {
    "ExecuteTime": {
     "start_time": "2023-06-19T08:07:04.517750Z",
     "end_time": "2023-06-19T12:12:56.163906Z"
    },
    "colab": {
     "base_uri": "https://localhost:8080/",
     "height": 431,
     "referenced_widgets": [
      "de47d65d44e7494d923392a4c5648a00",
      "a1c1b7280d154912b912153bbb8ea3e9",
      "2ee7917409464b53bf7ef0efa39a1162",
      "6079c71d86e741f9b669ae420baa7d2f",
      "47d084ed2dc14201b7c08fc9b8d5774e",
      "42d2d976719446a5b6450ea6e37e93f8",
      "1e2e5f62824141b4a9c7baf285e10c95",
      "7625083ceed04b2d9d3c900a716ba1bf",
      "03dee1a765b04b8db13667cdd2d2537c",
      "bd397b0ca3c4429d9e4d3315ada64581",
      "ae5f1b74d3db44d29ec2a2225e7e18ae",
      "70d198357c744cdca29f65640cefc308",
      "bb58b87300ca45aa978c58ab8c3f057d",
      "6b4566ea066d4ec8a34b3a209e400f19",
      "5c0d9cd63a234c1894ffa8310ea3d5e2",
      "a0ee400a4bda48509440cb220227fb72",
      "0f57e9b609e3484aa63613f696750087",
      "54819d9d9989410bb7e05e56b1e6f657",
      "a7be1e5b6b5e453f9289e07879b7703d",
      "75246afd833a4af6b0e3bdf5130a2dab",
      "7aecf79fdb1d44a0ab2688ba0df06627",
      "10d803a469f34f5f9c2d17d124e1f786"
     ]
    },
    "execution": {
     "iopub.execute_input": "2023-05-27T20:21:00.835127Z",
     "iopub.status.busy": "2023-05-27T20:21:00.834749Z"
    },
    "id": "6zMBnbgZKdyq",
    "outputId": "df54c2b0-b04b-49a9-f216-afccaf26e4eb"
   },
   "outputs": [
    {
     "name": "stderr",
     "output_type": "stream",
     "text": [
      "You are using a CUDA device ('NVIDIA GeForce RTX 3060 Ti') that has Tensor Cores. To properly utilize them, you should set `torch.set_float32_matmul_precision('medium' | 'high')` which will trade-off precision for performance. For more details, read https://pytorch.org/docs/stable/generated/torch.set_float32_matmul_precision.html#torch.set_float32_matmul_precision\n",
      "LOCAL_RANK: 0 - CUDA_VISIBLE_DEVICES: [0]\n",
      "\n",
      "  | Name          | Type              | Params\n",
      "----------------------------------------------------\n",
      "0 | generator     | Generator         | 4.7 M \n",
      "1 | discriminator | Discriminator     | 3.2 M \n",
      "2 | bce_loss      | BCELoss           | 0     \n",
      "3 | l2_loss       | MSELoss           | 0     \n",
      "4 | l1_loss       | L1Loss            | 0     \n",
      "5 | vgg           | FeaturesFromVGG19 | 17.7 M\n",
      "----------------------------------------------------\n",
      "7.9 M     Trainable params\n",
      "17.7 M    Non-trainable params\n",
      "25.6 M    Total params\n",
      "102.326   Total estimated model params size (MB)\n"
     ]
    },
    {
     "data": {
      "text/plain": "Training: 0it [00:00, ?it/s]",
      "application/vnd.jupyter.widget-view+json": {
       "version_major": 2,
       "version_minor": 0,
       "model_id": "c2e7e2d95e2e41d58aae9387f4e5edfb"
      }
     },
     "metadata": {},
     "output_type": "display_data"
    },
    {
     "name": "stderr",
     "output_type": "stream",
     "text": [
      "C:\\Users\\user\\AppData\\Local\\Temp\\ipykernel_7116\\4246114292.py:104: RuntimeWarning: More than 20 figures have been opened. Figures created through the pyplot interface (`matplotlib.pyplot.figure`) are retained until explicitly closed and may consume too much memory. (To control this warning, see the rcParam `figure.max_open_warning`). Consider using `matplotlib.pyplot.close()`.\n",
      "  fig = plt.figure(figsize=(10, 10))\n"
     ]
    }
   ],
   "source": [
    "# -------------------\n",
    "# Step 8: Train your model\n",
    "# -------------------\n",
    "\n",
    "trainer.fit(model, datamodule=data_module)"
   ]
  },
  {
   "cell_type": "code",
   "execution_count": 54,
   "metadata": {
    "ExecuteTime": {
     "start_time": "2023-06-20T17:47:22.400313Z",
     "end_time": "2023-06-20T17:47:22.423247Z"
    }
   },
   "outputs": [],
   "source": [
    "torch.save(generator.state_dict(), 'generator.pth')"
   ]
  },
  {
   "cell_type": "code",
   "execution_count": 55,
   "outputs": [
    {
     "data": {
      "text/plain": "<All keys matched successfully>"
     },
     "execution_count": 55,
     "metadata": {},
     "output_type": "execute_result"
    }
   ],
   "source": [
    "# Loading generator for prediction\n",
    "generator = Generator(in_embedding_dim=768,\n",
    "                      projected_embedding_dim=128,\n",
    "                      noise_dim=100,\n",
    "                      channels_dim=64,\n",
    "                      out_channels=3)\n",
    "generator.load_state_dict(torch.load('generator.pth'))"
   ],
   "metadata": {
    "collapsed": false,
    "ExecuteTime": {
     "start_time": "2023-06-20T17:48:51.302337Z",
     "end_time": "2023-06-20T17:48:51.350209Z"
    }
   }
  },
  {
   "cell_type": "code",
   "execution_count": 56,
   "metadata": {
    "ExecuteTime": {
     "start_time": "2023-06-20T17:48:54.056771Z",
     "end_time": "2023-06-20T17:48:54.081037Z"
    }
   },
   "outputs": [],
   "source": [
    "def testing(data_module, index, generator):\n",
    "    data_module.setup()\n",
    "    test_dataset = data_module.test_dataset\n",
    "    sample = test_dataset.__getitem__(index)\n",
    "    text = sample['right_txt']\n",
    "    right_image = sample['right_images']\n",
    "    right_image = (right_image.permute(1, 2, 0) + 1)/2\n",
    "    right_embedding = sample['right_embeddings']\n",
    "    noise = torch.randn(1, 100, 1, 1)\n",
    "    generator.eval()\n",
    "    generator.to('cpu')\n",
    "    fake_image = generator(right_embedding[None, :].to('cpu'), noise.to('cpu'))[0]\n",
    "    fake_image = fake_image.permute(1, 2, 0).detach().numpy()\n",
    "    fake_image = (fake_image + 1)/2\n",
    "\n",
    "    print(text)\n",
    "    fig = plt.figure(figsize=(10, 7))\n",
    "    rows = 1\n",
    "    columns = 2\n",
    "    fig.add_subplot(rows, columns, 1)\n",
    "    plt.imshow(fake_image)\n",
    "    plt.axis('off')\n",
    "    plt.title(\"Generated\")\n",
    "    fig.add_subplot(rows, columns, 2)\n",
    "    plt.imshow(right_image)\n",
    "    plt.axis('off')\n",
    "    plt.title(\"Real\")\n",
    "    plt.savefig('saved.png')"
   ]
  },
  {
   "cell_type": "code",
   "execution_count": 57,
   "metadata": {
    "ExecuteTime": {
     "start_time": "2023-06-20T17:48:54.971267Z",
     "end_time": "2023-06-20T17:48:55.300894Z"
    }
   },
   "outputs": [
    {
     "name": "stdout",
     "output_type": "stream",
     "text": [
      "b'the petals on this flower are pink with a yellow base.\\n'\n"
     ]
    },
    {
     "data": {
      "text/plain": "<Figure size 1000x700 with 2 Axes>",
      "image/png": "[encoded data removed]"
     },
     "metadata": {},
     "output_type": "display_data"
    }
   ],
   "source": [
    "testing(data_module, 130, generator)"
   ]
  },
  {
   "cell_type": "code",
   "execution_count": 69,
   "outputs": [],
   "source": [
    "def generate_from_text(text, generator):\n",
    "    encoder = SentenceTransformer('all-mpnet-base-v2', device=device)\n",
    "    embedding = encoder.encode([text], convert_to_tensor=True)\n",
    "    noise = torch.randn(1, 100, 1, 1)\n",
    "    generator.eval()\n",
    "    generator.to('cpu')\n",
    "    fake_image = generator(embedding.to('cpu'), noise.to('cpu'))[0]\n",
    "    fake_image = fake_image.permute(1, 2, 0).detach().numpy()\n",
    "    fake_image = (fake_image + 1)/2\n",
    "\n",
    "    fig = plt.figure()\n",
    "    plt.imshow(fake_image)\n",
    "    plt.axis('off')\n",
    "    plt.title(\"Generated\")\n",
    "    plt.savefig('saved.png')"
   ],
   "metadata": {
    "collapsed": false,
    "ExecuteTime": {
     "start_time": "2023-06-20T17:57:08.252309Z",
     "end_time": "2023-06-20T17:57:08.274484Z"
    }
   }
  },
  {
   "cell_type": "code",
   "execution_count": 70,
   "outputs": [
    {
     "data": {
      "text/plain": "<Figure size 640x480 with 1 Axes>",
      "image/png": "[encoded data removed]"
     },
     "metadata": {},
     "output_type": "display_data"
    }
   ],
   "source": [
    "generate_from_text('little orange flower', generator)"
   ],
   "metadata": {
    "collapsed": false,
    "ExecuteTime": {
     "start_time": "2023-06-20T17:57:08.947806Z",
     "end_time": "2023-06-20T17:57:10.163068Z"
    }
   }
  },
  {
   "cell_type": "code",
   "execution_count": null,
   "outputs": [],
   "source": [],
   "metadata": {
    "collapsed": false
   }
  }
 ],
 "metadata": {
  "accelerator": "GPU",
  "colab": {
   "gpuType": "T4",
   "provenance": []
  },
  "gpuClass": "standard",
  "kernelspec": {
   "display_name": "Python 3 (ipykernel)",
   "language": "python",
   "name": "python3"
  },
  "language_info": {
   "codemirror_mode": {
    "name": "ipython",
    "version": 3
   },
   "file_extension": ".py",
   "mimetype": "text/x-python",
   "name": "python",
   "nbconvert_exporter": "python",
   "pygments_lexer": "ipython3",
   "version": "3.10.4"
  },
  "widgets": {
   "application/vnd.jupyter.widget-state+json": {
    "03dee1a765b04b8db13667cdd2d2537c": {
     "model_module": "@jupyter-widgets/controls",
     "model_module_version": "1.5.0",
     "model_name": "ProgressStyleModel",
     "state": {
      "_model_module": "@jupyter-widgets/controls",
      "_model_module_version": "1.5.0",
      "_model_name": "ProgressStyleModel",
      "_view_count": null,
      "_view_module": "@jupyter-widgets/base",
      "_view_module_version": "1.2.0",
      "_view_name": "StyleView",
      "bar_color": null,
      "description_width": ""
     }
    },
    "0f57e9b609e3484aa63613f696750087": {
     "model_module": "@jupyter-widgets/base",
     "model_module_version": "1.2.0",
     "model_name": "LayoutModel",
     "state": {
      "_model_module": "@jupyter-widgets/base",
      "_model_module_version": "1.2.0",
      "_model_name": "LayoutModel",
      "_view_count": null,
      "_view_module": "@jupyter-widgets/base",
      "_view_module_version": "1.2.0",
      "_view_name": "LayoutView",
      "align_content": null,
      "align_items": null,
      "align_self": null,
      "border": null,
      "bottom": null,
      "display": null,
      "flex": null,
      "flex_flow": null,
      "grid_area": null,
      "grid_auto_columns": null,
      "grid_auto_flow": null,
      "grid_auto_rows": null,
      "grid_column": null,
      "grid_gap": null,
      "grid_row": null,
      "grid_template_areas": null,
      "grid_template_columns": null,
      "grid_template_rows": null,
      "height": null,
      "justify_content": null,
      "justify_items": null,
      "left": null,
      "margin": null,
      "max_height": null,
      "max_width": null,
      "min_height": null,
      "min_width": null,
      "object_fit": null,
      "object_position": null,
      "order": null,
      "overflow": null,
      "overflow_x": null,
      "overflow_y": null,
      "padding": null,
      "right": null,
      "top": null,
      "visibility": null,
      "width": null
     }
    },
    "10d803a469f34f5f9c2d17d124e1f786": {
     "model_module": "@jupyter-widgets/controls",
     "model_module_version": "1.5.0",
     "model_name": "DescriptionStyleModel",
     "state": {
      "_model_module": "@jupyter-widgets/controls",
      "_model_module_version": "1.5.0",
      "_model_name": "DescriptionStyleModel",
      "_view_count": null,
      "_view_module": "@jupyter-widgets/base",
      "_view_module_version": "1.2.0",
      "_view_name": "StyleView",
      "description_width": ""
     }
    },
    "1e2e5f62824141b4a9c7baf285e10c95": {
     "model_module": "@jupyter-widgets/controls",
     "model_module_version": "1.5.0",
     "model_name": "DescriptionStyleModel",
     "state": {
      "_model_module": "@jupyter-widgets/controls",
      "_model_module_version": "1.5.0",
      "_model_name": "DescriptionStyleModel",
      "_view_count": null,
      "_view_module": "@jupyter-widgets/base",
      "_view_module_version": "1.2.0",
      "_view_name": "StyleView",
      "description_width": ""
     }
    },
    "2ee7917409464b53bf7ef0efa39a1162": {
     "model_module": "@jupyter-widgets/controls",
     "model_module_version": "1.5.0",
     "model_name": "FloatProgressModel",
     "state": {
      "_dom_classes": [],
      "_model_module": "@jupyter-widgets/controls",
      "_model_module_version": "1.5.0",
      "_model_name": "FloatProgressModel",
      "_view_count": null,
      "_view_module": "@jupyter-widgets/controls",
      "_view_module_version": "1.5.0",
      "_view_name": "ProgressView",
      "bar_style": "",
      "description": "",
      "description_tooltip": null,
      "layout": "IPY_MODEL_7625083ceed04b2d9d3c900a716ba1bf",
      "max": 2,
      "min": 0,
      "orientation": "horizontal",
      "style": "IPY_MODEL_03dee1a765b04b8db13667cdd2d2537c",
      "value": 2
     }
    },
    "42d2d976719446a5b6450ea6e37e93f8": {
     "model_module": "@jupyter-widgets/base",
     "model_module_version": "1.2.0",
     "model_name": "LayoutModel",
     "state": {
      "_model_module": "@jupyter-widgets/base",
      "_model_module_version": "1.2.0",
      "_model_name": "LayoutModel",
      "_view_count": null,
      "_view_module": "@jupyter-widgets/base",
      "_view_module_version": "1.2.0",
      "_view_name": "LayoutView",
      "align_content": null,
      "align_items": null,
      "align_self": null,
      "border": null,
      "bottom": null,
      "display": null,
      "flex": null,
      "flex_flow": null,
      "grid_area": null,
      "grid_auto_columns": null,
      "grid_auto_flow": null,
      "grid_auto_rows": null,
      "grid_column": null,
      "grid_gap": null,
      "grid_row": null,
      "grid_template_areas": null,
      "grid_template_columns": null,
      "grid_template_rows": null,
      "height": null,
      "justify_content": null,
      "justify_items": null,
      "left": null,
      "margin": null,
      "max_height": null,
      "max_width": null,
      "min_height": null,
      "min_width": null,
      "object_fit": null,
      "object_position": null,
      "order": null,
      "overflow": null,
      "overflow_x": null,
      "overflow_y": null,
      "padding": null,
      "right": null,
      "top": null,
      "visibility": null,
      "width": null
     }
    },
    "47d084ed2dc14201b7c08fc9b8d5774e": {
     "model_module": "@jupyter-widgets/base",
     "model_module_version": "1.2.0",
     "model_name": "LayoutModel",
     "state": {
      "_model_module": "@jupyter-widgets/base",
      "_model_module_version": "1.2.0",
      "_model_name": "LayoutModel",
      "_view_count": null,
      "_view_module": "@jupyter-widgets/base",
      "_view_module_version": "1.2.0",
      "_view_name": "LayoutView",
      "align_content": null,
      "align_items": null,
      "align_self": null,
      "border": null,
      "bottom": null,
      "display": "inline-flex",
      "flex": null,
      "flex_flow": "row wrap",
      "grid_area": null,
      "grid_auto_columns": null,
      "grid_auto_flow": null,
      "grid_auto_rows": null,
      "grid_column": null,
      "grid_gap": null,
      "grid_row": null,
      "grid_template_areas": null,
      "grid_template_columns": null,
      "grid_template_rows": null,
      "height": null,
      "justify_content": null,
      "justify_items": null,
      "left": null,
      "margin": null,
      "max_height": null,
      "max_width": null,
      "min_height": null,
      "min_width": null,
      "object_fit": null,
      "object_position": null,
      "order": null,
      "overflow": null,
      "overflow_x": null,
      "overflow_y": null,
      "padding": null,
      "right": null,
      "top": null,
      "visibility": "hidden",
      "width": "100%"
     }
    },
    "54819d9d9989410bb7e05e56b1e6f657": {
     "model_module": "@jupyter-widgets/controls",
     "model_module_version": "1.5.0",
     "model_name": "DescriptionStyleModel",
     "state": {
      "_model_module": "@jupyter-widgets/controls",
      "_model_module_version": "1.5.0",
      "_model_name": "DescriptionStyleModel",
      "_view_count": null,
      "_view_module": "@jupyter-widgets/base",
      "_view_module_version": "1.2.0",
      "_view_name": "StyleView",
      "description_width": ""
     }
    },
    "5c0d9cd63a234c1894ffa8310ea3d5e2": {
     "model_module": "@jupyter-widgets/controls",
     "model_module_version": "1.5.0",
     "model_name": "HTMLModel",
     "state": {
      "_dom_classes": [],
      "_model_module": "@jupyter-widgets/controls",
      "_model_module_version": "1.5.0",
      "_model_name": "HTMLModel",
      "_view_count": null,
      "_view_module": "@jupyter-widgets/controls",
      "_view_module_version": "1.5.0",
      "_view_name": "HTMLView",
      "description": "",
      "description_tooltip": null,
      "layout": "IPY_MODEL_7aecf79fdb1d44a0ab2688ba0df06627",
      "placeholder": "​",
      "style": "IPY_MODEL_10d803a469f34f5f9c2d17d124e1f786",
      "value": " 60/429 [05:27&lt;33:36,  5.46s/it, v_num=37, train_generator_loss_step=0.786, train_discriminator_loss_step=-1.59]"
     }
    },
    "6079c71d86e741f9b669ae420baa7d2f": {
     "model_module": "@jupyter-widgets/controls",
     "model_module_version": "1.5.0",
     "model_name": "HTMLModel",
     "state": {
      "_dom_classes": [],
      "_model_module": "@jupyter-widgets/controls",
      "_model_module_version": "1.5.0",
      "_model_name": "HTMLModel",
      "_view_count": null,
      "_view_module": "@jupyter-widgets/controls",
      "_view_module_version": "1.5.0",
      "_view_name": "HTMLView",
      "description": "",
      "description_tooltip": null,
      "layout": "IPY_MODEL_bd397b0ca3c4429d9e4d3315ada64581",
      "placeholder": "​",
      "style": "IPY_MODEL_ae5f1b74d3db44d29ec2a2225e7e18ae",
      "value": " 2/2 [00:04&lt;00:00,  2.37s/it]"
     }
    },
    "6b4566ea066d4ec8a34b3a209e400f19": {
     "model_module": "@jupyter-widgets/controls",
     "model_module_version": "1.5.0",
     "model_name": "FloatProgressModel",
     "state": {
      "_dom_classes": [],
      "_model_module": "@jupyter-widgets/controls",
      "_model_module_version": "1.5.0",
      "_model_name": "FloatProgressModel",
      "_view_count": null,
      "_view_module": "@jupyter-widgets/controls",
      "_view_module_version": "1.5.0",
      "_view_name": "ProgressView",
      "bar_style": "",
      "description": "",
      "description_tooltip": null,
      "layout": "IPY_MODEL_a7be1e5b6b5e453f9289e07879b7703d",
      "max": 429,
      "min": 0,
      "orientation": "horizontal",
      "style": "IPY_MODEL_75246afd833a4af6b0e3bdf5130a2dab",
      "value": 60
     }
    },
    "70d198357c744cdca29f65640cefc308": {
     "model_module": "@jupyter-widgets/controls",
     "model_module_version": "1.5.0",
     "model_name": "HBoxModel",
     "state": {
      "_dom_classes": [],
      "_model_module": "@jupyter-widgets/controls",
      "_model_module_version": "1.5.0",
      "_model_name": "HBoxModel",
      "_view_count": null,
      "_view_module": "@jupyter-widgets/controls",
      "_view_module_version": "1.5.0",
      "_view_name": "HBoxView",
      "box_style": "",
      "children": [
       "IPY_MODEL_bb58b87300ca45aa978c58ab8c3f057d",
       "IPY_MODEL_6b4566ea066d4ec8a34b3a209e400f19",
       "IPY_MODEL_5c0d9cd63a234c1894ffa8310ea3d5e2"
      ],
      "layout": "IPY_MODEL_a0ee400a4bda48509440cb220227fb72"
     }
    },
    "75246afd833a4af6b0e3bdf5130a2dab": {
     "model_module": "@jupyter-widgets/controls",
     "model_module_version": "1.5.0",
     "model_name": "ProgressStyleModel",
     "state": {
      "_model_module": "@jupyter-widgets/controls",
      "_model_module_version": "1.5.0",
      "_model_name": "ProgressStyleModel",
      "_view_count": null,
      "_view_module": "@jupyter-widgets/base",
      "_view_module_version": "1.2.0",
      "_view_name": "StyleView",
      "bar_color": null,
      "description_width": ""
     }
    },
    "7625083ceed04b2d9d3c900a716ba1bf": {
     "model_module": "@jupyter-widgets/base",
     "model_module_version": "1.2.0",
     "model_name": "LayoutModel",
     "state": {
      "_model_module": "@jupyter-widgets/base",
      "_model_module_version": "1.2.0",
      "_model_name": "LayoutModel",
      "_view_count": null,
      "_view_module": "@jupyter-widgets/base",
      "_view_module_version": "1.2.0",
      "_view_name": "LayoutView",
      "align_content": null,
      "align_items": null,
      "align_self": null,
      "border": null,
      "bottom": null,
      "display": null,
      "flex": "2",
      "flex_flow": null,
      "grid_area": null,
      "grid_auto_columns": null,
      "grid_auto_flow": null,
      "grid_auto_rows": null,
      "grid_column": null,
      "grid_gap": null,
      "grid_row": null,
      "grid_template_areas": null,
      "grid_template_columns": null,
      "grid_template_rows": null,
      "height": null,
      "justify_content": null,
      "justify_items": null,
      "left": null,
      "margin": null,
      "max_height": null,
      "max_width": null,
      "min_height": null,
      "min_width": null,
      "object_fit": null,
      "object_position": null,
      "order": null,
      "overflow": null,
      "overflow_x": null,
      "overflow_y": null,
      "padding": null,
      "right": null,
      "top": null,
      "visibility": null,
      "width": null
     }
    },
    "7aecf79fdb1d44a0ab2688ba0df06627": {
     "model_module": "@jupyter-widgets/base",
     "model_module_version": "1.2.0",
     "model_name": "LayoutModel",
     "state": {
      "_model_module": "@jupyter-widgets/base",
      "_model_module_version": "1.2.0",
      "_model_name": "LayoutModel",
      "_view_count": null,
      "_view_module": "@jupyter-widgets/base",
      "_view_module_version": "1.2.0",
      "_view_name": "LayoutView",
      "align_content": null,
      "align_items": null,
      "align_self": null,
      "border": null,
      "bottom": null,
      "display": null,
      "flex": null,
      "flex_flow": null,
      "grid_area": null,
      "grid_auto_columns": null,
      "grid_auto_flow": null,
      "grid_auto_rows": null,
      "grid_column": null,
      "grid_gap": null,
      "grid_row": null,
      "grid_template_areas": null,
      "grid_template_columns": null,
      "grid_template_rows": null,
      "height": null,
      "justify_content": null,
      "justify_items": null,
      "left": null,
      "margin": null,
      "max_height": null,
      "max_width": null,
      "min_height": null,
      "min_width": null,
      "object_fit": null,
      "object_position": null,
      "order": null,
      "overflow": null,
      "overflow_x": null,
      "overflow_y": null,
      "padding": null,
      "right": null,
      "top": null,
      "visibility": null,
      "width": null
     }
    },
    "a0ee400a4bda48509440cb220227fb72": {
     "model_module": "@jupyter-widgets/base",
     "model_module_version": "1.2.0",
     "model_name": "LayoutModel",
     "state": {
      "_model_module": "@jupyter-widgets/base",
      "_model_module_version": "1.2.0",
      "_model_name": "LayoutModel",
      "_view_count": null,
      "_view_module": "@jupyter-widgets/base",
      "_view_module_version": "1.2.0",
      "_view_name": "LayoutView",
      "align_content": null,
      "align_items": null,
      "align_self": null,
      "border": null,
      "bottom": null,
      "display": "inline-flex",
      "flex": null,
      "flex_flow": "row wrap",
      "grid_area": null,
      "grid_auto_columns": null,
      "grid_auto_flow": null,
      "grid_auto_rows": null,
      "grid_column": null,
      "grid_gap": null,
      "grid_row": null,
      "grid_template_areas": null,
      "grid_template_columns": null,
      "grid_template_rows": null,
      "height": null,
      "justify_content": null,
      "justify_items": null,
      "left": null,
      "margin": null,
      "max_height": null,
      "max_width": null,
      "min_height": null,
      "min_width": null,
      "object_fit": null,
      "object_position": null,
      "order": null,
      "overflow": null,
      "overflow_x": null,
      "overflow_y": null,
      "padding": null,
      "right": null,
      "top": null,
      "visibility": null,
      "width": "100%"
     }
    },
    "a1c1b7280d154912b912153bbb8ea3e9": {
     "model_module": "@jupyter-widgets/controls",
     "model_module_version": "1.5.0",
     "model_name": "HTMLModel",
     "state": {
      "_dom_classes": [],
      "_model_module": "@jupyter-widgets/controls",
      "_model_module_version": "1.5.0",
      "_model_name": "HTMLModel",
      "_view_count": null,
      "_view_module": "@jupyter-widgets/controls",
      "_view_module_version": "1.5.0",
      "_view_name": "HTMLView",
      "description": "",
      "description_tooltip": null,
      "layout": "IPY_MODEL_42d2d976719446a5b6450ea6e37e93f8",
      "placeholder": "​",
      "style": "IPY_MODEL_1e2e5f62824141b4a9c7baf285e10c95",
      "value": "Sanity Checking DataLoader 0: 100%"
     }
    },
    "a7be1e5b6b5e453f9289e07879b7703d": {
     "model_module": "@jupyter-widgets/base",
     "model_module_version": "1.2.0",
     "model_name": "LayoutModel",
     "state": {
      "_model_module": "@jupyter-widgets/base",
      "_model_module_version": "1.2.0",
      "_model_name": "LayoutModel",
      "_view_count": null,
      "_view_module": "@jupyter-widgets/base",
      "_view_module_version": "1.2.0",
      "_view_name": "LayoutView",
      "align_content": null,
      "align_items": null,
      "align_self": null,
      "border": null,
      "bottom": null,
      "display": null,
      "flex": "2",
      "flex_flow": null,
      "grid_area": null,
      "grid_auto_columns": null,
      "grid_auto_flow": null,
      "grid_auto_rows": null,
      "grid_column": null,
      "grid_gap": null,
      "grid_row": null,
      "grid_template_areas": null,
      "grid_template_columns": null,
      "grid_template_rows": null,
      "height": null,
      "justify_content": null,
      "justify_items": null,
      "left": null,
      "margin": null,
      "max_height": null,
      "max_width": null,
      "min_height": null,
      "min_width": null,
      "object_fit": null,
      "object_position": null,
      "order": null,
      "overflow": null,
      "overflow_x": null,
      "overflow_y": null,
      "padding": null,
      "right": null,
      "top": null,
      "visibility": null,
      "width": null
     }
    },
    "ae5f1b74d3db44d29ec2a2225e7e18ae": {
     "model_module": "@jupyter-widgets/controls",
     "model_module_version": "1.5.0",
     "model_name": "DescriptionStyleModel",
     "state": {
      "_model_module": "@jupyter-widgets/controls",
      "_model_module_version": "1.5.0",
      "_model_name": "DescriptionStyleModel",
      "_view_count": null,
      "_view_module": "@jupyter-widgets/base",
      "_view_module_version": "1.2.0",
      "_view_name": "StyleView",
      "description_width": ""
     }
    },
    "bb58b87300ca45aa978c58ab8c3f057d": {
     "model_module": "@jupyter-widgets/controls",
     "model_module_version": "1.5.0",
     "model_name": "HTMLModel",
     "state": {
      "_dom_classes": [],
      "_model_module": "@jupyter-widgets/controls",
      "_model_module_version": "1.5.0",
      "_model_name": "HTMLModel",
      "_view_count": null,
      "_view_module": "@jupyter-widgets/controls",
      "_view_module_version": "1.5.0",
      "_view_name": "HTMLView",
      "description": "",
      "description_tooltip": null,
      "layout": "IPY_MODEL_0f57e9b609e3484aa63613f696750087",
      "placeholder": "​",
      "style": "IPY_MODEL_54819d9d9989410bb7e05e56b1e6f657",
      "value": "Epoch 0:  14%"
     }
    },
    "bd397b0ca3c4429d9e4d3315ada64581": {
     "model_module": "@jupyter-widgets/base",
     "model_module_version": "1.2.0",
     "model_name": "LayoutModel",
     "state": {
      "_model_module": "@jupyter-widgets/base",
      "_model_module_version": "1.2.0",
      "_model_name": "LayoutModel",
      "_view_count": null,
      "_view_module": "@jupyter-widgets/base",
      "_view_module_version": "1.2.0",
      "_view_name": "LayoutView",
      "align_content": null,
      "align_items": null,
      "align_self": null,
      "border": null,
      "bottom": null,
      "display": null,
      "flex": null,
      "flex_flow": null,
      "grid_area": null,
      "grid_auto_columns": null,
      "grid_auto_flow": null,
      "grid_auto_rows": null,
      "grid_column": null,
      "grid_gap": null,
      "grid_row": null,
      "grid_template_areas": null,
      "grid_template_columns": null,
      "grid_template_rows": null,
      "height": null,
      "justify_content": null,
      "justify_items": null,
      "left": null,
      "margin": null,
      "max_height": null,
      "max_width": null,
      "min_height": null,
      "min_width": null,
      "object_fit": null,
      "object_position": null,
      "order": null,
      "overflow": null,
      "overflow_x": null,
      "overflow_y": null,
      "padding": null,
      "right": null,
      "top": null,
      "visibility": null,
      "width": null
     }
    },
    "de47d65d44e7494d923392a4c5648a00": {
     "model_module": "@jupyter-widgets/controls",
     "model_module_version": "1.5.0",
     "model_name": "HBoxModel",
     "state": {
      "_dom_classes": [],
      "_model_module": "@jupyter-widgets/controls",
      "_model_module_version": "1.5.0",
      "_model_name": "HBoxModel",
      "_view_count": null,
      "_view_module": "@jupyter-widgets/controls",
      "_view_module_version": "1.5.0",
      "_view_name": "HBoxView",
      "box_style": "",
      "children": [
       "IPY_MODEL_a1c1b7280d154912b912153bbb8ea3e9",
       "IPY_MODEL_2ee7917409464b53bf7ef0efa39a1162",
       "IPY_MODEL_6079c71d86e741f9b669ae420baa7d2f"
      ],
      "layout": "IPY_MODEL_47d084ed2dc14201b7c08fc9b8d5774e"
     }
    }
   }
  }
 },
 "nbformat": 4,
 "nbformat_minor": 4
}
